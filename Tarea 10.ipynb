{
 "cells": [
  {
   "cell_type": "markdown",
   "metadata": {},
   "source": [
    "# Tarea 10"
   ]
  },
  {
   "cell_type": "markdown",
   "metadata": {},
   "source": [
    "### Kenneth Yar"
   ]
  },
  {
   "cell_type": "code",
   "execution_count": 2,
   "metadata": {},
   "outputs": [
    {
     "name": "stdout",
     "output_type": "stream",
     "text": [
      "The autoreload extension is already loaded. To reload it, use:\n",
      "  %reload_ext autoreload\n"
     ]
    }
   ],
   "source": [
    "%load_ext autoreload\n",
    "import numpy as np\n",
    "from src import descomposicion_LU, resolver_LU"
   ]
  },
  {
   "cell_type": "markdown",
   "metadata": {},
   "source": [
    "## Ejercicio 1"
   ]
  },
  {
   "cell_type": "markdown",
   "metadata": {},
   "source": [
    "a"
   ]
  },
  {
   "cell_type": "code",
   "execution_count": 3,
   "metadata": {},
   "outputs": [
    {
     "name": "stdout",
     "output_type": "stream",
     "text": [
      "El resultado de la multiplicación es: \n",
      " [[-4 10]\n",
      " [ 1 15]]\n"
     ]
    }
   ],
   "source": [
    "%autoreload 2\n",
    "A = np.array([[2,-3],[3,-1]])\n",
    "B = np.array([[1,5],[2,0]])\n",
    "C = np.matmul(A,B)\n",
    "print(\"El resultado de la multiplicación es: \\n\",C)"
   ]
  },
  {
   "cell_type": "markdown",
   "metadata": {},
   "source": [
    "b"
   ]
  },
  {
   "cell_type": "code",
   "execution_count": 4,
   "metadata": {},
   "outputs": [
    {
     "name": "stdout",
     "output_type": "stream",
     "text": [
      "El resultado de la multiplicación es: \n",
      " [[ 11   4  -8]\n",
      " [  6  13 -12]]\n"
     ]
    }
   ],
   "source": [
    "%autoreload 2\n",
    "A = np.array([[2,-3],[3,-1]])\n",
    "B = np.array([[1,5,-4],[-3,2,0]])\n",
    "C = np.matmul(A,B)\n",
    "print(\"El resultado de la multiplicación es: \\n\",C)"
   ]
  },
  {
   "cell_type": "markdown",
   "metadata": {},
   "source": [
    "c"
   ]
  },
  {
   "cell_type": "code",
   "execution_count": 5,
   "metadata": {},
   "outputs": [
    {
     "name": "stdout",
     "output_type": "stream",
     "text": [
      "El resultado de la multiplicación es: \n",
      " [[ -1   5  -3]\n",
      " [  3   4 -11]\n",
      " [ -6  -7  -4]]\n"
     ]
    }
   ],
   "source": [
    "%autoreload 2\n",
    "A = np.array([[2,-3,1],[4,3,0],[5,2,-4]])\n",
    "B = np.array([[0,1,-2],[1,0,-1],[2,3,-2]])\n",
    "C = np.matmul(A,B)\n",
    "print(\"El resultado de la multiplicación es: \\n\",C)"
   ]
  },
  {
   "cell_type": "markdown",
   "metadata": {},
   "source": [
    "d"
   ]
  },
  {
   "cell_type": "code",
   "execution_count": 6,
   "metadata": {},
   "outputs": [
    {
     "name": "stdout",
     "output_type": "stream",
     "text": [
      "El resultado de la multiplicación es: \n",
      " [[ -2   1]\n",
      " [-14   7]\n",
      " [  6   1]]\n"
     ]
    }
   ],
   "source": [
    "%autoreload 2\n",
    "A = np.array([[2,1,2],[-2,3,0],[2,-1,3]])\n",
    "B = np.array([[1,-2],[-4,1],[0,2]])\n",
    "C = np.matmul(A,B)\n",
    "print(\"El resultado de la multiplicación es: \\n\",C)"
   ]
  },
  {
   "cell_type": "markdown",
   "metadata": {},
   "source": [
    "## Ejercicio 2"
   ]
  },
  {
   "cell_type": "markdown",
   "metadata": {},
   "source": [
    "a"
   ]
  },
  {
   "cell_type": "code",
   "execution_count": 11,
   "metadata": {},
   "outputs": [
    {
     "name": "stdout",
     "output_type": "stream",
     "text": [
      "El determinante es: 0.0 \n",
      "Así que, la matriz es singular y no posee inversa\n"
     ]
    }
   ],
   "source": [
    "%autoreload 2\n",
    "A = np.array([[4,2,6],[3,0,7],[-2,-1,-3]])\n",
    "det = np.linalg.det(A)\n",
    "if(det==0):\n",
    "    print(\"El determinante es:\",det, \"\\nAsí que, la matriz es singular y no posee inversa\")\n",
    "else:\n",
    "    inv = np.linalg.inv(A)\n",
    "    print(\"El determinante es:\",det, \"\\nSu matriz inversa es:\\n\", inv)"
   ]
  },
  {
   "cell_type": "markdown",
   "metadata": {},
   "source": [
    "b"
   ]
  },
  {
   "cell_type": "code",
   "execution_count": 12,
   "metadata": {},
   "outputs": [
    {
     "name": "stdout",
     "output_type": "stream",
     "text": [
      "El determinante es: -8.000000000000002 \n",
      "Su matriz inversa es:\n",
      " [[-0.25   0.25   0.25 ]\n",
      " [ 0.625 -0.125 -0.125]\n",
      " [ 0.125 -0.625  0.375]]\n"
     ]
    }
   ],
   "source": [
    "%autoreload 2\n",
    "A = np.array([[1,2,0],[2,1,-1],[3,1,1]])\n",
    "det = np.linalg.det(A)\n",
    "if(det==0):\n",
    "    print(\"El determinante es:\",det, \"\\nAsí que, la matriz es singular y no posee inversa\")\n",
    "else:\n",
    "    inv = np.linalg.inv(A)\n",
    "    print(\"El determinante es:\",det, \"\\nSu matriz inversa es:\\n\", inv)"
   ]
  },
  {
   "cell_type": "markdown",
   "metadata": {},
   "source": [
    "c"
   ]
  },
  {
   "cell_type": "code",
   "execution_count": 13,
   "metadata": {},
   "outputs": [
    {
     "name": "stdout",
     "output_type": "stream",
     "text": [
      "El determinante es: 0.0 \n",
      "Así que, la matriz es singular y no posee inversa\n"
     ]
    }
   ],
   "source": [
    "%autoreload 2\n",
    "A = np.array([[1,1,-1,1],[1,2,-4,-2],[2,1,1,5],[-1,0,-2,-4]])\n",
    "det = np.linalg.det(A)\n",
    "if(det==0):\n",
    "    print(\"El determinante es:\",det, \"\\nAsí que, la matriz es singular y no posee inversa\")\n",
    "else:\n",
    "    inv = np.linalg.inv(A)\n",
    "    print(\"El determinante es:\",det, \"\\nSu matriz inversa es:\\n\", inv)"
   ]
  },
  {
   "cell_type": "markdown",
   "metadata": {},
   "source": [
    "d"
   ]
  },
  {
   "cell_type": "code",
   "execution_count": 14,
   "metadata": {},
   "outputs": [
    {
     "name": "stdout",
     "output_type": "stream",
     "text": [
      "El determinante es: 28.00000000000001 \n",
      "Su matriz inversa es:\n",
      " [[ 0.25        0.          0.          0.        ]\n",
      " [-0.21428571  0.14285714 -0.         -0.        ]\n",
      " [ 0.10714286 -1.57142857  1.         -0.        ]\n",
      " [-0.5         1.         -1.          1.        ]]\n"
     ]
    }
   ],
   "source": [
    "%autoreload 2\n",
    "A = np.array([[4,0,0,0],[6,7,0,0],[9,11,1,0],[5,4,1,1]])\n",
    "det = np.linalg.det(A)\n",
    "if(det==0):\n",
    "    print(\"El determinante es:\",det, \"\\nAsí que, la matriz es singular y no posee inversa\")\n",
    "else:\n",
    "    inv = np.linalg.inv(A)\n",
    "    print(\"El determinante es:\",det, \"\\nSu matriz inversa es:\\n\", inv)"
   ]
  },
  {
   "cell_type": "markdown",
   "metadata": {},
   "source": [
    "## Ejercicio 3"
   ]
  }
 ],
 "metadata": {
  "kernelspec": {
   "display_name": "Python 3",
   "language": "python",
   "name": "python3"
  },
  "language_info": {
   "codemirror_mode": {
    "name": "ipython",
    "version": 3
   },
   "file_extension": ".py",
   "mimetype": "text/x-python",
   "name": "python",
   "nbconvert_exporter": "python",
   "pygments_lexer": "ipython3",
   "version": "3.13.0"
  }
 },
 "nbformat": 4,
 "nbformat_minor": 2
}
