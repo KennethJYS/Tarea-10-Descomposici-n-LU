{
 "cells": [
  {
   "cell_type": "markdown",
   "metadata": {},
   "source": [
    "# Tarea 10"
   ]
  },
  {
   "cell_type": "markdown",
   "metadata": {},
   "source": [
    "Repositorio: https://github.com/KennethJYS/Tarea-10-Descomposici-n-LU"
   ]
  },
  {
   "cell_type": "markdown",
   "metadata": {},
   "source": [
    "### Kenneth Yar"
   ]
  },
  {
   "cell_type": "code",
   "execution_count": 1,
   "metadata": {},
   "outputs": [
    {
     "name": "stdout",
     "output_type": "stream",
     "text": [
      "[02-05 21:34:09][INFO] 2025-02-05 21:34:09.042066\n",
      "[02-05 21:34:09][INFO] 2025-02-05 21:34:09.045176\n"
     ]
    }
   ],
   "source": [
    "%load_ext autoreload\n",
    "import numpy as np\n",
    "from src import descomposicion_LU, resolver_LU"
   ]
  },
  {
   "cell_type": "markdown",
   "metadata": {},
   "source": [
    "## Ejercicio 1"
   ]
  },
  {
   "cell_type": "markdown",
   "metadata": {},
   "source": [
    "a"
   ]
  },
  {
   "cell_type": "code",
   "execution_count": 2,
   "metadata": {},
   "outputs": [
    {
     "name": "stdout",
     "output_type": "stream",
     "text": [
      "El resultado de la multiplicación es: \n",
      " [[-4 10]\n",
      " [ 1 15]]\n"
     ]
    }
   ],
   "source": [
    "%autoreload 2\n",
    "A = np.array([[2,-3],[3,-1]])\n",
    "B = np.array([[1,5],[2,0]])\n",
    "C = np.matmul(A,B)\n",
    "print(\"El resultado de la multiplicación es: \\n\",C)"
   ]
  },
  {
   "cell_type": "markdown",
   "metadata": {},
   "source": [
    "b"
   ]
  },
  {
   "cell_type": "code",
   "execution_count": 3,
   "metadata": {},
   "outputs": [
    {
     "name": "stdout",
     "output_type": "stream",
     "text": [
      "El resultado de la multiplicación es: \n",
      " [[ 11   4  -8]\n",
      " [  6  13 -12]]\n"
     ]
    }
   ],
   "source": [
    "%autoreload 2\n",
    "A = np.array([[2,-3],[3,-1]])\n",
    "B = np.array([[1,5,-4],[-3,2,0]])\n",
    "C = np.matmul(A,B)\n",
    "print(\"El resultado de la multiplicación es: \\n\",C)"
   ]
  },
  {
   "cell_type": "markdown",
   "metadata": {},
   "source": [
    "c"
   ]
  },
  {
   "cell_type": "code",
   "execution_count": 4,
   "metadata": {},
   "outputs": [
    {
     "name": "stdout",
     "output_type": "stream",
     "text": [
      "El resultado de la multiplicación es: \n",
      " [[ -1   5  -3]\n",
      " [  3   4 -11]\n",
      " [ -6  -7  -4]]\n"
     ]
    }
   ],
   "source": [
    "%autoreload 2\n",
    "A = np.array([[2,-3,1],[4,3,0],[5,2,-4]])\n",
    "B = np.array([[0,1,-2],[1,0,-1],[2,3,-2]])\n",
    "C = np.matmul(A,B)\n",
    "print(\"El resultado de la multiplicación es: \\n\",C)"
   ]
  },
  {
   "cell_type": "markdown",
   "metadata": {},
   "source": [
    "d"
   ]
  },
  {
   "cell_type": "code",
   "execution_count": 5,
   "metadata": {},
   "outputs": [
    {
     "name": "stdout",
     "output_type": "stream",
     "text": [
      "El resultado de la multiplicación es: \n",
      " [[ -2   1]\n",
      " [-14   7]\n",
      " [  6   1]]\n"
     ]
    }
   ],
   "source": [
    "%autoreload 2\n",
    "A = np.array([[2,1,2],[-2,3,0],[2,-1,3]])\n",
    "B = np.array([[1,-2],[-4,1],[0,2]])\n",
    "C = np.matmul(A,B)\n",
    "print(\"El resultado de la multiplicación es: \\n\",C)"
   ]
  },
  {
   "cell_type": "markdown",
   "metadata": {},
   "source": [
    "## Ejercicio 2"
   ]
  },
  {
   "cell_type": "markdown",
   "metadata": {},
   "source": [
    "a"
   ]
  },
  {
   "cell_type": "code",
   "execution_count": 6,
   "metadata": {},
   "outputs": [
    {
     "name": "stdout",
     "output_type": "stream",
     "text": [
      "El determinante es: 0.0 \n",
      "Así que, la matriz es singular y no posee inversa\n"
     ]
    }
   ],
   "source": [
    "%autoreload 2\n",
    "A = np.array([[4,2,6],[3,0,7],[-2,-1,-3]])\n",
    "det = np.linalg.det(A)\n",
    "if(det==0):\n",
    "    print(\"El determinante es:\",det, \"\\nAsí que, la matriz es singular y no posee inversa\")\n",
    "else:\n",
    "    inv = np.linalg.inv(A)\n",
    "    print(\"El determinante es:\",det, \"\\nSu matriz inversa es:\\n\", inv)"
   ]
  },
  {
   "cell_type": "markdown",
   "metadata": {},
   "source": [
    "b"
   ]
  },
  {
   "cell_type": "code",
   "execution_count": 7,
   "metadata": {},
   "outputs": [
    {
     "name": "stdout",
     "output_type": "stream",
     "text": [
      "El determinante es: -8.000000000000002 \n",
      "Su matriz inversa es:\n",
      " [[-0.25   0.25   0.25 ]\n",
      " [ 0.625 -0.125 -0.125]\n",
      " [ 0.125 -0.625  0.375]]\n"
     ]
    }
   ],
   "source": [
    "%autoreload 2\n",
    "A = np.array([[1,2,0],[2,1,-1],[3,1,1]])\n",
    "det = np.linalg.det(A)\n",
    "if(det==0):\n",
    "    print(\"El determinante es:\",det, \"\\nAsí que, la matriz es singular y no posee inversa\")\n",
    "else:\n",
    "    inv = np.linalg.inv(A)\n",
    "    print(\"El determinante es:\",det, \"\\nSu matriz inversa es:\\n\", inv)"
   ]
  },
  {
   "cell_type": "markdown",
   "metadata": {},
   "source": [
    "c"
   ]
  },
  {
   "cell_type": "code",
   "execution_count": 8,
   "metadata": {},
   "outputs": [
    {
     "name": "stdout",
     "output_type": "stream",
     "text": [
      "El determinante es: 0.0 \n",
      "Así que, la matriz es singular y no posee inversa\n"
     ]
    }
   ],
   "source": [
    "%autoreload 2\n",
    "A = np.array([[1,1,-1,1],[1,2,-4,-2],[2,1,1,5],[-1,0,-2,-4]])\n",
    "det = np.linalg.det(A)\n",
    "if(det==0):\n",
    "    print(\"El determinante es:\",det, \"\\nAsí que, la matriz es singular y no posee inversa\")\n",
    "else:\n",
    "    inv = np.linalg.inv(A)\n",
    "    print(\"El determinante es:\",det, \"\\nSu matriz inversa es:\\n\", inv)"
   ]
  },
  {
   "cell_type": "markdown",
   "metadata": {},
   "source": [
    "d"
   ]
  },
  {
   "cell_type": "code",
   "execution_count": 9,
   "metadata": {},
   "outputs": [
    {
     "name": "stdout",
     "output_type": "stream",
     "text": [
      "El determinante es: 28.00000000000001 \n",
      "Su matriz inversa es:\n",
      " [[ 0.25        0.          0.          0.        ]\n",
      " [-0.21428571  0.14285714 -0.         -0.        ]\n",
      " [ 0.10714286 -1.57142857  1.         -0.        ]\n",
      " [-0.5         1.         -1.          1.        ]]\n"
     ]
    }
   ],
   "source": [
    "%autoreload 2\n",
    "A = np.array([[4,0,0,0],[6,7,0,0],[9,11,1,0],[5,4,1,1]])\n",
    "det = np.linalg.det(A)\n",
    "if(det==0):\n",
    "    print(\"El determinante es:\",det, \"\\nAsí que, la matriz es singular y no posee inversa\")\n",
    "else:\n",
    "    inv = np.linalg.inv(A)\n",
    "    print(\"El determinante es:\",det, \"\\nSu matriz inversa es:\\n\", inv)"
   ]
  },
  {
   "cell_type": "markdown",
   "metadata": {},
   "source": [
    "## Ejercicio 3"
   ]
  },
  {
   "cell_type": "markdown",
   "metadata": {},
   "source": [
    "Ya que ambos sistemas poseen la misma matriz de coeficientes:"
   ]
  },
  {
   "cell_type": "code",
   "execution_count": 10,
   "metadata": {},
   "outputs": [
    {
     "name": "stdout",
     "output_type": "stream",
     "text": [
      "[02-05 21:34:09][INFO] \n",
      "[[ 1. -1.  2. -1.]\n",
      " [ 0.  1. -3.  2.]\n",
      " [ 0.  3. -1. -2.]\n",
      " [ 0. -1.  1. -1.]]\n",
      "[02-05 21:34:09][INFO] \n",
      "[[ 1. -1.  2. -1.]\n",
      " [ 0.  1. -3.  2.]\n",
      " [ 0.  0.  8. -8.]\n",
      " [ 0.  0. -2.  1.]]\n",
      "[02-05 21:34:09][INFO] \n",
      "[[ 1. -1.  2. -1.]\n",
      " [ 0.  1. -3.  2.]\n",
      " [ 0.  0.  8. -8.]\n",
      " [ 0.  0.  0. -1.]]\n",
      "[02-05 21:34:09][INFO] \n",
      "[[ 1. -1.  2. -1.]\n",
      " [ 0.  1. -3.  2.]\n",
      " [ 0.  0.  8. -8.]\n",
      " [ 0.  0.  0. -1.]]\n",
      "Matriz L:\n",
      " [[ 1.    0.    0.    0.  ]\n",
      " [ 1.    1.    0.    0.  ]\n",
      " [ 2.    3.    1.    0.  ]\n",
      " [ 0.   -1.   -0.25  1.  ]]\n",
      "Matriz U:\n",
      " [[ 1. -1.  2. -1.]\n",
      " [ 0.  1. -3.  2.]\n",
      " [ 0.  0.  8. -8.]\n",
      " [ 0.  0.  0. -1.]]\n"
     ]
    }
   ],
   "source": [
    "%autoreload 2\n",
    "A = [[1,-1,2,-1],[1,0,-1,1],[2,1,3,-4],[0,-1,1,-1]]\n",
    "L,U = descomposicion_LU(A)\n",
    "print(\"Matriz L:\\n\",L)\n",
    "print(\"Matriz U:\\n\",U)"
   ]
  },
  {
   "cell_type": "code",
   "execution_count": 11,
   "metadata": {},
   "outputs": [
    {
     "name": "stdout",
     "output_type": "stream",
     "text": [
      "[02-05 21:34:09][INFO] Sustitución hacia adelante\n",
      "[02-05 21:34:09][INFO] y = \n",
      "[[ 6.]\n",
      " [-2.]\n",
      " [-8.]\n",
      " [ 1.]]\n",
      "[02-05 21:34:09][INFO] Sustitución hacia atrás\n",
      "[02-05 21:34:09][INFO] i = 2\n",
      "[02-05 21:34:09][INFO] suma = [8.]\n",
      "[02-05 21:34:09][INFO] U[i, i] = 8.0\n",
      "[02-05 21:34:09][INFO] y[i] = [-8.]\n",
      "[02-05 21:34:09][INFO] i = 1\n",
      "[02-05 21:34:09][INFO] suma = [4.]\n",
      "[02-05 21:34:09][INFO] U[i, i] = 1.0\n",
      "[02-05 21:34:09][INFO] y[i] = [-2.]\n",
      "[02-05 21:34:09][INFO] i = 0\n",
      "[02-05 21:34:09][INFO] suma = [3.]\n",
      "[02-05 21:34:09][INFO] U[i, i] = 1.0\n",
      "[02-05 21:34:09][INFO] y[i] = [6.]\n"
     ]
    }
   ],
   "source": [
    "%autoreload 2\n",
    "b_1 = [6,4,-2,5]\n",
    "sol_1 = resolver_LU(L,U,b_1)"
   ]
  },
  {
   "cell_type": "code",
   "execution_count": 12,
   "metadata": {},
   "outputs": [
    {
     "name": "stdout",
     "output_type": "stream",
     "text": [
      "[02-05 21:34:10][INFO] Sustitución hacia adelante\n",
      "[02-05 21:34:10][INFO] y = \n",
      "[[ 1.]\n",
      " [ 0.]\n",
      " [ 0.]\n",
      " [-1.]]\n",
      "[02-05 21:34:10][INFO] Sustitución hacia atrás\n",
      "[02-05 21:34:10][INFO] i = 2\n",
      "[02-05 21:34:10][INFO] suma = [-8.]\n",
      "[02-05 21:34:10][INFO] U[i, i] = 8.0\n",
      "[02-05 21:34:10][INFO] y[i] = [0.]\n",
      "[02-05 21:34:10][INFO] i = 1\n",
      "[02-05 21:34:10][INFO] suma = [-1.]\n",
      "[02-05 21:34:10][INFO] U[i, i] = 1.0\n",
      "[02-05 21:34:10][INFO] y[i] = [0.]\n",
      "[02-05 21:34:10][INFO] i = 0\n",
      "[02-05 21:34:10][INFO] suma = [0.]\n",
      "[02-05 21:34:10][INFO] U[i, i] = 1.0\n",
      "[02-05 21:34:10][INFO] y[i] = [1.]\n"
     ]
    }
   ],
   "source": [
    "%autoreload 2\n",
    "b_2 = [1,1,2,-1]\n",
    "sol_2 = resolver_LU(L,U,b_2)"
   ]
  },
  {
   "cell_type": "markdown",
   "metadata": {},
   "source": [
    "## Ejercicio 4"
   ]
  },
  {
   "cell_type": "markdown",
   "metadata": {},
   "source": [
    "Determinante de la matriz A"
   ]
  },
  {
   "attachments": {
    "image.png": {
     "image/png": "[encoded data removed]"
    }
   },
   "cell_type": "markdown",
   "metadata": {},
   "source": [
    "![image.png](attachment:image.png)"
   ]
  },
  {
   "cell_type": "markdown",
   "metadata": {},
   "source": [
    "Para que cumpla"
   ]
  },
  {
   "attachments": {
    "image.png": {
     "image/png": "[encoded data removed]"
    }
   },
   "cell_type": "markdown",
   "metadata": {},
   "source": [
    "![image.png](attachment:image.png)"
   ]
  },
  {
   "cell_type": "markdown",
   "metadata": {},
   "source": [
    "## Ejercicio 5"
   ]
  },
  {
   "cell_type": "markdown",
   "metadata": {},
   "source": [
    "a"
   ]
  },
  {
   "cell_type": "code",
   "execution_count": 13,
   "metadata": {},
   "outputs": [
    {
     "name": "stdout",
     "output_type": "stream",
     "text": [
      "[02-05 21:34:10][INFO] Sustitución hacia adelante\n",
      "[02-05 21:34:10][INFO] y = \n",
      "[[ 2.]\n",
      " [-5.]\n",
      " [ 3.]]\n",
      "[02-05 21:34:10][INFO] Sustitución hacia atrás\n",
      "[02-05 21:34:10][INFO] i = 1\n",
      "[02-05 21:34:10][INFO] suma = [1.]\n",
      "[02-05 21:34:10][INFO] U[i, i] = -2\n",
      "[02-05 21:34:10][INFO] y[i] = [-5.]\n",
      "[02-05 21:34:10][INFO] i = 0\n",
      "[02-05 21:34:10][INFO] suma = [8.]\n",
      "[02-05 21:34:10][INFO] U[i, i] = 2\n",
      "[02-05 21:34:10][INFO] y[i] = [2.]\n"
     ]
    },
    {
     "data": {
      "text/plain": [
       "array([[-3.],\n",
       "       [ 3.],\n",
       "       [ 1.]])"
      ]
     },
     "execution_count": 13,
     "metadata": {},
     "output_type": "execute_result"
    }
   ],
   "source": [
    "%autoreload 2\n",
    "L = np.array([[1,0,0],[2,1,0],[-1,0,1]])\n",
    "U = np.array([[2,3,-1],[0,-2,1],[0,0,3]])\n",
    "b = [2,-1,1]\n",
    "resolver_LU(L,U,b)"
   ]
  },
  {
   "cell_type": "markdown",
   "metadata": {},
   "source": [
    "b"
   ]
  },
  {
   "cell_type": "code",
   "execution_count": 14,
   "metadata": {},
   "outputs": [
    {
     "name": "stdout",
     "output_type": "stream",
     "text": [
      "[02-05 21:34:10][INFO] Sustitución hacia adelante\n",
      "[02-05 21:34:10][INFO] y = \n",
      "[[-0.5]\n",
      " [ 2.5]\n",
      " [ 3.5]]\n",
      "[02-05 21:34:10][INFO] Sustitución hacia atrás\n",
      "[02-05 21:34:10][INFO] i = 1\n",
      "[02-05 21:34:10][INFO] suma = [7.]\n",
      "[02-05 21:34:10][INFO] U[i, i] = 1\n",
      "[02-05 21:34:10][INFO] y[i] = [2.5]\n",
      "[02-05 21:34:10][INFO] i = 0\n",
      "[02-05 21:34:10][INFO] suma = [-1.]\n",
      "[02-05 21:34:10][INFO] U[i, i] = 1\n",
      "[02-05 21:34:10][INFO] y[i] = [-0.5]\n"
     ]
    },
    {
     "data": {
      "text/plain": [
       "array([[ 0.5],\n",
       "       [-4.5],\n",
       "       [ 3.5]])"
      ]
     },
     "execution_count": 14,
     "metadata": {},
     "output_type": "execute_result"
    }
   ],
   "source": [
    "%autoreload 2\n",
    "L = np.array([[2,0,0],[-1,1,0],[3,2,-1]])\n",
    "U = np.array([[1,1,1],[0,1,2],[0,0,1]])\n",
    "b = [-1,3,0]\n",
    "resolver_LU(L,U,b)"
   ]
  },
  {
   "cell_type": "markdown",
   "metadata": {},
   "source": [
    "## Ejercicio 6"
   ]
  },
  {
   "cell_type": "markdown",
   "metadata": {},
   "source": [
    "a"
   ]
  },
  {
   "cell_type": "code",
   "execution_count": 15,
   "metadata": {},
   "outputs": [
    {
     "name": "stdout",
     "output_type": "stream",
     "text": [
      "[02-05 21:34:10][INFO] \n",
      "[[ 2.  -1.   1. ]\n",
      " [ 0.   4.5  7.5]\n",
      " [ 0.   4.5  3.5]]\n",
      "[02-05 21:34:10][INFO] \n",
      "[[ 2.  -1.   1. ]\n",
      " [ 0.   4.5  7.5]\n",
      " [ 0.   0.  -4. ]]\n",
      "[02-05 21:34:10][INFO] \n",
      "[[ 2.  -1.   1. ]\n",
      " [ 0.   4.5  7.5]\n",
      " [ 0.   0.  -4. ]]\n",
      "Matriz L:\n",
      " [[1.  0.  0. ]\n",
      " [1.5 1.  0. ]\n",
      " [1.5 1.  1. ]]\n",
      "Matriz U:\n",
      " [[ 2.  -1.   1. ]\n",
      " [ 0.   4.5  7.5]\n",
      " [ 0.   0.  -4. ]]\n"
     ]
    }
   ],
   "source": [
    "%autoreload 2\n",
    "A = [[2,-1,1],[3,3,9],[3,3,5]]\n",
    "L,U = descomposicion_LU(A)\n",
    "print(\"Matriz L:\\n\",L)\n",
    "print(\"Matriz U:\\n\",U)"
   ]
  },
  {
   "cell_type": "markdown",
   "metadata": {},
   "source": [
    "b"
   ]
  },
  {
   "cell_type": "code",
   "execution_count": 16,
   "metadata": {},
   "outputs": [
    {
     "name": "stdout",
     "output_type": "stream",
     "text": [
      "[02-05 21:34:10][INFO] \n",
      "[[ 1.012      -2.132       3.104     ]\n",
      " [ 0.         -0.39552569 -0.47374308]\n",
      " [ 0.         -0.47374308 -9.50656917]]\n",
      "[02-05 21:34:10][INFO] \n",
      "[[ 1.012      -2.132       3.104     ]\n",
      " [ 0.         -0.39552569 -0.47374308]\n",
      " [ 0.          0.         -8.93914077]]\n",
      "[02-05 21:34:10][INFO] \n",
      "[[ 1.012      -2.132       3.104     ]\n",
      " [ 0.         -0.39552569 -0.47374308]\n",
      " [ 0.          0.         -8.93914077]]\n",
      "Matriz L:\n",
      " [[ 1.          0.          0.        ]\n",
      " [-2.10671937  1.          0.        ]\n",
      " [ 3.06719368  1.19775553  1.        ]]\n",
      "Matriz U:\n",
      " [[ 1.012      -2.132       3.104     ]\n",
      " [ 0.         -0.39552569 -0.47374308]\n",
      " [ 0.          0.         -8.93914077]]\n"
     ]
    }
   ],
   "source": [
    "%autoreload 2\n",
    "B = [[1.012,-2.132,3.104],[-2.132,4.096,-7.013],[3.104,-7.013,0.014]]\n",
    "L,U = descomposicion_LU(B)\n",
    "print(\"Matriz L:\\n\",L)\n",
    "print(\"Matriz U:\\n\",U)"
   ]
  },
  {
   "cell_type": "markdown",
   "metadata": {},
   "source": [
    "c"
   ]
  },
  {
   "cell_type": "code",
   "execution_count": 17,
   "metadata": {},
   "outputs": [
    {
     "name": "stdout",
     "output_type": "stream",
     "text": [
      "[02-05 21:34:10][INFO] \n",
      "[[ 2.   0.   0.   0. ]\n",
      " [ 0.   1.5  0.   0. ]\n",
      " [ 0.  -3.   0.5  0. ]\n",
      " [ 0.  -2.   1.   1. ]]\n",
      "[02-05 21:34:10][INFO] \n",
      "[[2.  0.  0.  0. ]\n",
      " [0.  1.5 0.  0. ]\n",
      " [0.  0.  0.5 0. ]\n",
      " [0.  0.  1.  1. ]]\n",
      "[02-05 21:34:10][INFO] \n",
      "[[2.  0.  0.  0. ]\n",
      " [0.  1.5 0.  0. ]\n",
      " [0.  0.  0.5 0. ]\n",
      " [0.  0.  0.  1. ]]\n",
      "[02-05 21:34:10][INFO] \n",
      "[[2.  0.  0.  0. ]\n",
      " [0.  1.5 0.  0. ]\n",
      " [0.  0.  0.5 0. ]\n",
      " [0.  0.  0.  1. ]]\n",
      "Matriz L:\n",
      " [[ 1.          0.          0.          0.        ]\n",
      " [ 0.5         1.          0.          0.        ]\n",
      " [ 0.         -2.          1.          0.        ]\n",
      " [ 1.         -1.33333333  2.          1.        ]]\n",
      "Matriz U:\n",
      " [[2.  0.  0.  0. ]\n",
      " [0.  1.5 0.  0. ]\n",
      " [0.  0.  0.5 0. ]\n",
      " [0.  0.  0.  1. ]]\n"
     ]
    }
   ],
   "source": [
    "%autoreload 2\n",
    "C = [[2,0,0,0],[1,1.5,0,0],[0,-3,0.5,0],[2,-2,1,1]]\n",
    "L,U = descomposicion_LU(C)\n",
    "print(\"Matriz L:\\n\",L)\n",
    "print(\"Matriz U:\\n\",U)"
   ]
  },
  {
   "cell_type": "markdown",
   "metadata": {},
   "source": [
    "d"
   ]
  },
  {
   "cell_type": "code",
   "execution_count": 18,
   "metadata": {},
   "outputs": [
    {
     "name": "stdout",
     "output_type": "stream",
     "text": [
      "[02-05 21:34:10][INFO] \n",
      "[[  2.1756       4.0231      -2.1732       5.1967    ]\n",
      " [  0.          13.43948042  -4.01866194  10.80699101]\n",
      " [  0.          -3.36150897   0.11220314   2.38862842]\n",
      " [  0.          -4.13860216   6.01685521 -18.54400331]]\n",
      "[02-05 21:34:10][INFO] \n",
      "[[ 2.17560000e+00  4.02310000e+00 -2.17320000e+00  5.19670000e+00]\n",
      " [ 0.00000000e+00  1.34394804e+01 -4.01866194e+00  1.08069910e+01]\n",
      " [ 0.00000000e+00  4.44089210e-16 -8.92952394e-01  5.09169403e+00]\n",
      " [ 0.00000000e+00  0.00000000e+00  4.77933394e+00 -1.52160595e+01]]\n",
      "[02-05 21:34:10][INFO] \n",
      "[[ 2.17560000e+00  4.02310000e+00 -2.17320000e+00  5.19670000e+00]\n",
      " [ 0.00000000e+00  1.34394804e+01 -4.01866194e+00  1.08069910e+01]\n",
      " [ 0.00000000e+00  4.44089210e-16 -8.92952394e-01  5.09169403e+00]\n",
      " [ 0.00000000e+00  0.00000000e+00  0.00000000e+00  1.20361280e+01]]\n",
      "[02-05 21:34:10][INFO] \n",
      "[[ 2.17560000e+00  4.02310000e+00 -2.17320000e+00  5.19670000e+00]\n",
      " [ 0.00000000e+00  1.34394804e+01 -4.01866194e+00  1.08069910e+01]\n",
      " [ 0.00000000e+00  4.44089210e-16 -8.92952394e-01  5.09169403e+00]\n",
      " [ 0.00000000e+00  0.00000000e+00  0.00000000e+00  1.20361280e+01]]\n",
      "Matriz L:\n",
      " [[ 1.          0.          0.          0.        ]\n",
      " [-1.84919103  1.          0.          0.        ]\n",
      " [-0.45964332 -0.25012194  1.          0.        ]\n",
      " [ 2.76866152 -0.30794361 -5.35228302  1.        ]]\n",
      "Matriz U:\n",
      " [[ 2.17560000e+00  4.02310000e+00 -2.17320000e+00  5.19670000e+00]\n",
      " [ 0.00000000e+00  1.34394804e+01 -4.01866194e+00  1.08069910e+01]\n",
      " [ 0.00000000e+00  4.44089210e-16 -8.92952394e-01  5.09169403e+00]\n",
      " [ 0.00000000e+00  0.00000000e+00  0.00000000e+00  1.20361280e+01]]\n"
     ]
    }
   ],
   "source": [
    "%autoreload 2\n",
    "D = [[2.1756,4.0231,-2.1732,5.1967],[-4.0231,6.0000,0,1.1973],\n",
    "     [-1.0000,-5.2107,1.1111,0],[6.0235,7.0000,0,-4.1561]]\n",
    "L,U = descomposicion_LU(D)\n",
    "print(\"Matriz L:\\n\",L)\n",
    "print(\"Matriz U:\\n\",U)"
   ]
  },
  {
   "cell_type": "markdown",
   "metadata": {},
   "source": [
    "## Ejercicio 7"
   ]
  },
  {
   "cell_type": "code",
   "execution_count": 19,
   "metadata": {},
   "outputs": [],
   "source": [
    "def resolver_sistema_lu(A, b):\n",
    "    def descomposicion_lu(A):\n",
    "        n = A.shape[0]\n",
    "        L = np.eye(n)\n",
    "        U = A.astype(float).copy()\n",
    "        for i in range(n):\n",
    "            for j in range(i+1, n):\n",
    "                factor = U[j, i] / U[i, i]\n",
    "                L[j, i] = factor\n",
    "                U[j, :] -= factor * U[i, :]\n",
    "        return L, U\n",
    "\n",
    "    def sustitucion_adelante(L, b):\n",
    "        n = L.shape[0]\n",
    "        y = np.zeros(n)\n",
    "        for i in range(n):\n",
    "            y[i] = (b[i] - np.dot(L[i, :i], y[:i])) / L[i, i]\n",
    "        return y\n",
    "\n",
    "    def sustitucion_atras(U, y):\n",
    "        n = U.shape[0]\n",
    "        x = np.zeros(n)\n",
    "        for i in range(n-1, -1, -1):\n",
    "            x[i] = (y[i] - np.dot(U[i, i+1:], x[i+1:])) / U[i, i]\n",
    "        return x\n",
    "\n",
    "    L, U = descomposicion_lu(A)\n",
    "    y = sustitucion_adelante(L, b)\n",
    "    x = sustitucion_atras(U, y)\n",
    "    return x"
   ]
  },
  {
   "cell_type": "markdown",
   "metadata": {},
   "source": [
    "a"
   ]
  },
  {
   "cell_type": "code",
   "execution_count": 20,
   "metadata": {},
   "outputs": [
    {
     "name": "stdout",
     "output_type": "stream",
     "text": [
      "\n",
      "Solución del sistema:\n",
      "[ 1.  2. -1.]\n"
     ]
    }
   ],
   "source": [
    "A = np.array([[2,-1,1],[3,3,9],[3,3,5]])\n",
    "b = np.array([-1,0,4])\n",
    "solucion = resolver_sistema_lu(A, b)\n",
    "print(\"\\nSolución del sistema:\")\n",
    "print(solucion)"
   ]
  },
  {
   "cell_type": "markdown",
   "metadata": {},
   "source": [
    "b"
   ]
  },
  {
   "cell_type": "code",
   "execution_count": 21,
   "metadata": {},
   "outputs": [
    {
     "name": "stdout",
     "output_type": "stream",
     "text": [
      "\n",
      "Solución del sistema:\n",
      "[1. 1. 1.]\n"
     ]
    }
   ],
   "source": [
    "A = np.array([[1.012,-2.132,3.104],[-2.132,4.096,-7.013],[3.104,-7.013,0.014]])\n",
    "b = np.array([1.984,-5.049,-3.895])\n",
    "solucion = resolver_sistema_lu(A, b)\n",
    "print(\"\\nSolución del sistema:\")\n",
    "print(solucion)"
   ]
  },
  {
   "cell_type": "markdown",
   "metadata": {},
   "source": [
    "c"
   ]
  },
  {
   "cell_type": "code",
   "execution_count": 22,
   "metadata": {},
   "outputs": [
    {
     "name": "stdout",
     "output_type": "stream",
     "text": [
      "\n",
      "Solución del sistema:\n",
      "[ 1.5  2.  -1.2  3. ]\n"
     ]
    }
   ],
   "source": [
    "A = np.array([[2,0,0,0],[1,1.5,0,0],[0,-3,0.5,0],[2,-2,1,1]])\n",
    "b = np.array([3,4.5,-6.6,0.8])\n",
    "solucion = resolver_sistema_lu(A, b)\n",
    "print(\"\\nSolución del sistema:\")\n",
    "print(solucion)"
   ]
  },
  {
   "cell_type": "markdown",
   "metadata": {},
   "source": [
    "d"
   ]
  },
  {
   "cell_type": "code",
   "execution_count": 23,
   "metadata": {},
   "outputs": [
    {
     "name": "stdout",
     "output_type": "stream",
     "text": [
      "\n",
      "Solución del sistema:\n",
      "[2.9398512  0.0706777  5.67773512 4.37981223]\n"
     ]
    }
   ],
   "source": [
    "A = np.array([[2.1756,4.0231,-2.1732,5.1967],[-4.0231,6,0,1.1973],[-1,-5.2107,1.1111,0],[6.0235,7,0,-4.1561]])\n",
    "b = np.array([17.102,-6.1593,3.0004,0])\n",
    "solucion = resolver_sistema_lu(A, b)\n",
    "print(\"\\nSolución del sistema:\")\n",
    "print(solucion)"
   ]
  }
 ],
 "metadata": {
  "kernelspec": {
   "display_name": "Python 3",
   "language": "python",
   "name": "python3"
  },
  "language_info": {
   "codemirror_mode": {
    "name": "ipython",
    "version": 3
   },
   "file_extension": ".py",
   "mimetype": "text/x-python",
   "name": "python",
   "nbconvert_exporter": "python",
   "pygments_lexer": "ipython3",
   "version": "3.13.0"
  }
 },
 "nbformat": 4,
 "nbformat_minor": 2
}
